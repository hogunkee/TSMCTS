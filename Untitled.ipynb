{
 "cells": [
  {
   "cell_type": "code",
   "execution_count": 1,
   "id": "b085573b",
   "metadata": {},
   "outputs": [],
   "source": [
    "import os\n",
    "import numpy as np\n",
    "import matplotlib.pyplot as plt\n",
    "import torch\n",
    "\n",
    "from model import dsae"
   ]
  },
  {
   "cell_type": "code",
   "execution_count": 2,
   "id": "2909ec4d",
   "metadata": {},
   "outputs": [],
   "source": [
    "device = torch.device(\"cuda\" if torch.cuda.is_available() else \"cpu\")\n",
    "dsae_model = dsae.CustomDeepSpatialAutoencoder(in_channels=3,\n",
    "                                              hidden_dims=[32, 64, 128, 32],\n",
    "                                              latent_dimension=64,\n",
    "                                              latent_height=6,\n",
    "                                              latent_width=6,\n",
    "                                              out_channels=3,\n",
    "                                              temperature=None,\n",
    "                                              normalise=True\n",
    "                                            ).to(device)"
   ]
  },
  {
   "cell_type": "code",
   "execution_count": 3,
   "id": "3a21d34d",
   "metadata": {},
   "outputs": [
    {
     "data": {
      "text/plain": [
       "<All keys matched successfully>"
      ]
     },
     "execution_count": 3,
     "metadata": {},
     "output_type": "execute_result"
    }
   ],
   "source": [
    "model_name = 'ur5'\n",
    "model_path = 'temp/%s.pth' %model_name\n",
    "dsae_model.load_state_dict(torch.load(model_path))"
   ]
  },
  {
   "cell_type": "code",
   "execution_count": 4,
   "id": "a6fa8bfd",
   "metadata": {},
   "outputs": [],
   "source": [
    "img_idx = 0\n",
    "data_dir = '/home/gun/ssd/disk/ur5_tidying_data/3block'\n",
    "data_batch = np.load(os.path.join(data_dir, 'image_%d.npy' %img_idx))"
   ]
  },
  {
   "cell_type": "code",
   "execution_count": 5,
   "id": "9bae506d",
   "metadata": {},
   "outputs": [],
   "source": [
    "x = torch.from_numpy(data_batch[:5].transpose([0, 3, 1, 2])).type(torch.float32).to(device)"
   ]
  },
  {
   "cell_type": "code",
   "execution_count": 6,
   "id": "a5c3d220",
   "metadata": {},
   "outputs": [
    {
     "data": {
      "text/plain": [
       "torch.Size([5, 3, 96, 96])"
      ]
     },
     "execution_count": 6,
     "metadata": {},
     "output_type": "execute_result"
    }
   ],
   "source": [
    "x.shape"
   ]
  },
  {
   "cell_type": "code",
   "execution_count": 9,
   "id": "4a99a777",
   "metadata": {},
   "outputs": [
    {
     "name": "stdout",
     "output_type": "stream",
     "text": [
      "torch.Size([5, 32, 2])\n"
     ]
    }
   ],
   "source": [
    "sp = dsae_model.encoder(x)\n",
    "print(sp.shape)"
   ]
  },
  {
   "cell_type": "code",
   "execution_count": 10,
   "id": "796ed48d",
   "metadata": {},
   "outputs": [
    {
     "data": {
      "text/plain": [
       "tensor([[-5.9770e-01,  1.1764e-01],\n",
       "        [-1.4080e-02, -7.9353e-03],\n",
       "        [ 2.4870e-02,  2.4763e-01],\n",
       "        [ 4.7822e-04, -3.4183e-01],\n",
       "        [-2.5571e-01,  4.4078e-02],\n",
       "        [-1.4212e-01, -1.5061e-01],\n",
       "        [ 1.3382e-01,  1.8447e-01],\n",
       "        [ 2.8170e-03, -9.8258e-03],\n",
       "        [-9.9159e-03, -1.8868e-01],\n",
       "        [-7.1506e-02, -3.4899e-01],\n",
       "        [-4.4375e-01, -2.6756e-02],\n",
       "        [-1.8196e-02, -1.1573e-01],\n",
       "        [-5.3441e-01,  1.4250e-01],\n",
       "        [ 4.4337e-01,  1.0891e-01],\n",
       "        [ 5.8678e-01,  1.7758e-01],\n",
       "        [-1.0803e-01,  1.9469e-01],\n",
       "        [-4.5178e-02,  1.2539e-01],\n",
       "        [-1.9422e-02, -4.7647e-01],\n",
       "        [ 4.5514e-02,  3.0135e-01],\n",
       "        [ 2.0892e-01,  2.8853e-01],\n",
       "        [-3.1355e-02, -2.1655e-01],\n",
       "        [-3.5437e-02, -3.1593e-02],\n",
       "        [-2.6692e-01,  2.8531e-02],\n",
       "        [-1.7328e-02, -1.8389e-01],\n",
       "        [ 7.8158e-02,  2.4087e-01],\n",
       "        [-2.0134e-01, -3.2183e-02],\n",
       "        [ 8.2796e-02,  2.4797e-02],\n",
       "        [-1.5254e-01, -1.0532e-01],\n",
       "        [ 1.0758e-01,  1.2104e-01],\n",
       "        [-1.6110e-02, -1.6064e-01],\n",
       "        [-8.5898e-02, -1.8929e-01],\n",
       "        [-4.0807e-01, -8.2818e-02]], device='cuda:0', grad_fn=<SelectBackward>)"
      ]
     },
     "execution_count": 10,
     "metadata": {},
     "output_type": "execute_result"
    }
   ],
   "source": [
    "sp[0]"
   ]
  },
  {
   "cell_type": "code",
   "execution_count": 16,
   "id": "0455a1b3",
   "metadata": {},
   "outputs": [
    {
     "data": {
      "text/plain": [
       "tensor([[[19.1092, 53.0879],\n",
       "         [46.8312, 47.1231],\n",
       "         [48.6813, 59.2622],\n",
       "         [47.5227, 31.2632],\n",
       "         [35.3538, 49.5937],\n",
       "         [40.7491, 40.3458],\n",
       "         [53.8566, 56.2626],\n",
       "         [47.6338, 47.0333],\n",
       "         [47.0290, 38.5379],\n",
       "         [44.1035, 30.9228],\n",
       "         [26.4216, 46.2291],\n",
       "         [46.6357, 42.0029],\n",
       "         [22.1153, 54.2687],\n",
       "         [68.5602, 52.6733],\n",
       "         [75.3719, 55.9348],\n",
       "         [42.3685, 56.7480],\n",
       "         [45.3541, 53.4559],\n",
       "         [46.5775, 24.8676],\n",
       "         [49.6619, 61.8139],\n",
       "         [57.4239, 61.2053],\n",
       "         [46.0107, 37.2137],\n",
       "         [45.8167, 45.9993],\n",
       "         [34.8214, 48.8552],\n",
       "         [46.6769, 38.7650],\n",
       "         [51.2125, 58.9414],\n",
       "         [37.9362, 45.9713],\n",
       "         [51.4328, 48.6779],\n",
       "         [40.2542, 42.4973],\n",
       "         [52.6099, 53.2492],\n",
       "         [46.7348, 39.8696],\n",
       "         [43.4199, 38.5088],\n",
       "         [28.1166, 43.5662]],\n",
       "\n",
       "        [[27.4375, 52.9698],\n",
       "         [50.8961, 47.4492],\n",
       "         [41.8798, 48.8439],\n",
       "         [48.1861, 31.8338],\n",
       "         [35.6577, 44.7316],\n",
       "         [50.9729, 45.1512],\n",
       "         [40.2436, 54.5267],\n",
       "         [49.4822, 36.2868],\n",
       "         [44.6579, 42.6220],\n",
       "         [41.3150, 35.0230],\n",
       "         [27.1721, 48.3381],\n",
       "         [41.1698, 52.9588],\n",
       "         [22.0416, 50.9178],\n",
       "         [57.4379, 53.6539],\n",
       "         [75.0969, 56.3137],\n",
       "         [42.3328, 48.5458],\n",
       "         [50.2903, 48.6905],\n",
       "         [52.3237, 34.5730],\n",
       "         [56.4929, 64.2440],\n",
       "         [52.0661, 69.6234],\n",
       "         [47.0384, 34.2807],\n",
       "         [40.7724, 45.0972],\n",
       "         [36.2218, 46.7329],\n",
       "         [45.8465, 40.9894],\n",
       "         [47.0195, 65.5416],\n",
       "         [40.2544, 46.6977],\n",
       "         [48.3576, 47.9607],\n",
       "         [35.8539, 48.4646],\n",
       "         [43.2531, 38.5683],\n",
       "         [42.6990, 39.7899],\n",
       "         [57.2076, 37.7896],\n",
       "         [31.5858, 44.0543]],\n",
       "\n",
       "        [[29.3895, 55.7250],\n",
       "         [53.0648, 42.3289],\n",
       "         [44.8540, 51.1113],\n",
       "         [41.4994, 31.1467],\n",
       "         [46.9309, 40.4434],\n",
       "         [68.3189, 23.4048],\n",
       "         [46.8109, 45.9301],\n",
       "         [49.5788, 34.1106],\n",
       "         [57.0871, 36.1911],\n",
       "         [40.6842, 30.2946],\n",
       "         [31.5965, 46.8579],\n",
       "         [45.5794, 37.5397],\n",
       "         [25.0845, 51.0672],\n",
       "         [80.3987, 47.9628],\n",
       "         [65.9608, 60.9400],\n",
       "         [43.4073, 44.1010],\n",
       "         [48.0553, 48.5193],\n",
       "         [55.0700, 34.4816],\n",
       "         [47.3776, 56.5021],\n",
       "         [56.5142, 68.4447],\n",
       "         [54.3934, 38.5047],\n",
       "         [65.4354, 41.5415],\n",
       "         [34.0424, 47.8495],\n",
       "         [46.4205, 40.8357],\n",
       "         [50.4583, 56.3941],\n",
       "         [46.4443, 42.1353],\n",
       "         [62.4434, 44.2192],\n",
       "         [43.1962, 41.1258],\n",
       "         [51.8615, 45.8452],\n",
       "         [51.3823, 39.8841],\n",
       "         [49.6124, 33.1835],\n",
       "         [30.5632, 43.2007]],\n",
       "\n",
       "        [[26.1361, 48.9819],\n",
       "         [43.8655, 53.4661],\n",
       "         [48.7458, 52.3284],\n",
       "         [49.5650, 34.7540],\n",
       "         [39.6072, 50.9667],\n",
       "         [52.2099, 39.9852],\n",
       "         [50.2413, 43.1549],\n",
       "         [45.6198, 38.8112],\n",
       "         [53.8751, 34.9224],\n",
       "         [53.6668, 37.1241],\n",
       "         [32.9151, 45.3334],\n",
       "         [47.0476, 40.8857],\n",
       "         [22.8597, 60.6587],\n",
       "         [76.2285, 56.6612],\n",
       "         [57.0575, 58.1563],\n",
       "         [36.6299, 62.9347],\n",
       "         [48.7628, 51.4283],\n",
       "         [58.1746, 33.9366],\n",
       "         [49.1266, 60.4402],\n",
       "         [55.2546, 71.8288],\n",
       "         [51.3175, 40.9550],\n",
       "         [65.5825, 54.0264],\n",
       "         [29.1568, 55.2049],\n",
       "         [49.5940, 38.5280],\n",
       "         [50.6292, 56.4770],\n",
       "         [47.2648, 44.4132],\n",
       "         [63.1585, 48.8440],\n",
       "         [36.3769, 48.5681],\n",
       "         [55.0788, 51.1232],\n",
       "         [47.8195, 39.7084],\n",
       "         [48.6794, 31.1970],\n",
       "         [31.8233, 40.7927]],\n",
       "\n",
       "        [[24.1721, 53.8356],\n",
       "         [48.8222, 44.3666],\n",
       "         [46.8935, 65.9264],\n",
       "         [56.2072, 37.8629],\n",
       "         [34.7599, 48.0753],\n",
       "         [47.7752, 37.3547],\n",
       "         [58.1977, 44.8555],\n",
       "         [48.6013, 37.7945],\n",
       "         [45.7161, 34.8497],\n",
       "         [44.0820, 32.1654],\n",
       "         [26.9080, 48.3474],\n",
       "         [45.4236, 37.7397],\n",
       "         [22.4908, 51.8866],\n",
       "         [76.7337, 53.2523],\n",
       "         [68.1256, 57.0657],\n",
       "         [44.7150, 49.3599],\n",
       "         [41.8739, 56.2991],\n",
       "         [63.1540, 38.7593],\n",
       "         [42.6754, 57.0587],\n",
       "         [55.5712, 59.2157],\n",
       "         [38.1842, 50.6649],\n",
       "         [43.9088, 46.5352],\n",
       "         [34.0759, 52.2572],\n",
       "         [45.4213, 51.0772],\n",
       "         [45.5317, 64.4539],\n",
       "         [37.6555, 51.4653],\n",
       "         [54.5967, 49.7593],\n",
       "         [38.0592, 47.5468],\n",
       "         [58.5130, 43.5298],\n",
       "         [47.4105, 39.2097],\n",
       "         [49.5812, 31.7328],\n",
       "         [26.0386, 44.2179]]], device='cuda:0', grad_fn=<DivBackward0>)"
      ]
     },
     "execution_count": 16,
     "metadata": {},
     "output_type": "execute_result"
    }
   ],
   "source": [
    "((sp + 1) * (96 - 1) / 2)"
   ]
  },
  {
   "cell_type": "code",
   "execution_count": null,
   "id": "b8dcc5f5",
   "metadata": {},
   "outputs": [],
   "source": [
    "def pixel2sf(pixel):\n",
    "    px, py = pixel\n",
    "    sf_x = "
   ]
  },
  {
   "cell_type": "code",
   "execution_count": null,
   "id": "48ece8b7",
   "metadata": {},
   "outputs": [],
   "source": []
  },
  {
   "cell_type": "code",
   "execution_count": 19,
   "id": "4adec2c2",
   "metadata": {},
   "outputs": [],
   "source": [
    "from backgroundsubtraction_module import BackgroundSubtraction"
   ]
  },
  {
   "cell_type": "code",
   "execution_count": 20,
   "id": "a8763b02",
   "metadata": {},
   "outputs": [],
   "source": [
    "backsub = BackgroundSubtraction(pad=4)\n",
    "backsub.fitting_model('/home/gun/ssd/disk/ur5_tidying_data/3block/image_0.npy')"
   ]
  },
  {
   "cell_type": "code",
   "execution_count": 45,
   "id": "28d7a7ae",
   "metadata": {},
   "outputs": [],
   "source": [
    "masks, colors, fmask = backsub.get_masks(data_batch[-2] * 255, n_cluster=3)"
   ]
  },
  {
   "cell_type": "code",
   "execution_count": 48,
   "id": "a2670581",
   "metadata": {},
   "outputs": [
    {
     "data": {
      "image/png": "[encoded data removed]",
      "text/plain": [
       "<Figure size 432x288 with 1 Axes>"
      ]
     },
     "metadata": {
      "needs_background": "light"
     },
     "output_type": "display_data"
    }
   ],
   "source": [
    "plt.imshow(masks[0])\n",
    "plt.show()"
   ]
  },
  {
   "cell_type": "code",
   "execution_count": 49,
   "id": "f5ca5add",
   "metadata": {},
   "outputs": [
    {
     "data": {
      "text/plain": [
       "<matplotlib.image.AxesImage at 0x7ff673538eb8>"
      ]
     },
     "execution_count": 49,
     "metadata": {},
     "output_type": "execute_result"
    },
    {
     "data": {
      "image/png": "[encoded data removed]",
      "text/plain": [
       "<Figure size 432x288 with 1 Axes>"
      ]
     },
     "metadata": {
      "needs_background": "light"
     },
     "output_type": "display_data"
    }
   ],
   "source": [
    "sy, sx = np.where(masks[0])\n",
    "y = np.round(np.mean(sy)).astype(int)\n",
    "x = np.round(np.mean(sx)).astype(int)\n",
    "zeros = np.zeros_like(fmask)\n",
    "zeros[y, x] = 1\n",
    "plt.imshow(zeros)"
   ]
  },
  {
   "cell_type": "code",
   "execution_count": null,
   "id": "3a5bed25",
   "metadata": {},
   "outputs": [],
   "source": []
  }
 ],
 "metadata": {
  "kernelspec": {
   "display_name": "Python 3",
   "language": "python",
   "name": "python3"
  },
  "language_info": {
   "codemirror_mode": {
    "name": "ipython",
    "version": 3
   },
   "file_extension": ".py",
   "mimetype": "text/x-python",
   "name": "python",
   "nbconvert_exporter": "python",
   "pygments_lexer": "ipython3",
   "version": "3.6.10"
  }
 },
 "nbformat": 4,
 "nbformat_minor": 5
}
