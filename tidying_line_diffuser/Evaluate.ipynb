{
 "cells": [
  {
   "cell_type": "code",
   "execution_count": null,
   "id": "3b9d2540-27b3-4be5-ac2c-6426e9caee0f",
   "metadata": {},
   "outputs": [],
   "source": [
    "import os\n",
    "import numpy as np\n",
    "from matplotlib import pyplot as plt\n",
    "\n",
    "import torch\n",
    "from torch.utils.data import DataLoader\n",
    "from torchvision.transforms import Resize\n",
    "from datasets.transform import Transform\n",
    "\n",
    "from models import Encoder, Decoder, ConditionalDiffusion\n",
    "from datasets.datasets import DiffusionDataset, DiffusionDatasetNoBG\n",
    "from datasets.datasets import CondDiffusionDataset, CondDiffusionDatasetNoBG"
   ]
  },
  {
   "cell_type": "markdown",
   "id": "3502c8d0-04b4-47c9-addd-31415dbbc4d8",
   "metadata": {},
   "source": [
    "## Evaluate Encoder"
   ]
  },
  {
   "cell_type": "code",
   "execution_count": null,
   "id": "27f3f5db-24f0-48bc-a02f-0db8a305443e",
   "metadata": {},
   "outputs": [],
   "source": [
    "remove_bg = False\n",
    "data_path = 'data/'\n",
    "batch_size = 16\n",
    "rgb_data = np.load(os.path.join(data_path, 'rgb_128.npy'))\n",
    "mask_data = np.load(os.path.join(data_path, 'segmap_128.npy'))\n",
    "if remove_bg:\n",
    "    dataset = DiffusionDatasetNoBG(rgb_data, mask_data)\n",
    "else:\n",
    "    dataset = DiffusionDataset(rgb_data)\n",
    "data_loader = DataLoader(dataset, batch_size, shuffle=True, num_workers=1)"
   ]
  },
  {
   "cell_type": "code",
   "execution_count": null,
   "id": "7c9c93a7-5e4a-48de-bcbd-52cba67b0d00",
   "metadata": {},
   "outputs": [],
   "source": [
    "encoder_path = '1129_1701'\n",
    "ckpt_dir = '/home/gun/ssd/disk/PreferenceDiffusion/tidying-line-diffusion'\n",
    "\n",
    "device = torch.device('cuda')\n",
    "encoder = Encoder(output_dim=latent_dim).to(device)\n",
    "decoder = Decoder(input_dim=latent_dim).to(device)\n",
    "\n",
    "state_dict = torch.load(os.path.join(ckpt_dir, 'encoder_%s/checkpoint_best.pt' %encoder_path))\n",
    "encoder.load_state_dict(state_dict['encoder'])\n",
    "decoder.load_state_dict(state_dict['decoder'])"
   ]
  },
  {
   "cell_type": "code",
   "execution_count": null,
   "id": "86612b9b-22e2-4931-888f-df303de1b175",
   "metadata": {},
   "outputs": [],
   "source": [
    "transform = Transform()\n",
    "#resize = Resize((128, 128))\n",
    "\n",
    "for batch in data_loader:\n",
    "    x, mask = batch\n",
    "    x = transform(x.permute((0, 3, 1, 2))\n",
    "    x = x.to(torch.float32).to(device)\n",
    "    posterior, prior_loss = encoder(x)\n",
    "    z = posterior.rsample()\n",
    "    x_recon = decoder(z)\n",
    "    print(x.recon_shape)"
   ]
  },
  {
   "cell_type": "markdown",
   "id": "f8253b11-9b1d-4823-9121-6276790f9d1c",
   "metadata": {},
   "source": [
    "## Evaluate Diffusion"
   ]
  },
  {
   "cell_type": "code",
   "execution_count": null,
   "id": "3879cf18-c498-4ec7-90eb-fc547f4d2386",
   "metadata": {},
   "outputs": [],
   "source": [
    "remove_bg = False\n",
    "data_path = 'data/'\n",
    "batch_size = 16\n",
    "rgb_data = np.load(os.path.join(data_path, 'rgb_128.npy'))\n",
    "segmap_data = np.load(os.path.join(data_path, 'segmap_16.npy'))\n",
    "if remove_bg:\n",
    "    mask_data = np.load(os.path.join(data_path, 'segmap_128.npy'))\n",
    "    dataset = CondDiffusionDatasetNoBG(rgb_data, segmap_data, mask_data)\n",
    "else:\n",
    "    dataset = CondDiffusionDataset(rgb_data, segmap_data)\n",
    "data_loader = DataLoader(dataset, batch_size, shuffle=True, num_workers=1)"
   ]
  },
  {
   "cell_type": "code",
   "execution_count": null,
   "id": "6a87114a-31ed-4aea-b361-435c42db1085",
   "metadata": {},
   "outputs": [],
   "source": [
    "ldm_path = '1208_2347'\n",
    "\n",
    "latent_dim = 16\n",
    "n_timesteps = 1000\n",
    "ckpt_dir = '/home/gun/ssd/disk/PreferenceDiffusion/tidying-line-diffusion'\n",
    "\n",
    "device = torch.device('cuda')\n",
    "encoder = Encoder(output_dim=latent_dim).to(device)\n",
    "decoder = Decoder(input_dim=latent_dim).to(device)\n",
    "diffusion = ConditionalDiffusion(input_dim=latent_dim, cond_dim=latent_dim, n_timesteps=n_timesteps).to(device)\n",
    "\n",
    "ldm_dir = [d for d in os.listdir(ckpt_dir) if d.startswith('diffusion_') and d.endswith(ldm_path)][0]\n",
    "state_dict = torch.load(os.path.join(ckpt_dir, ldm_dir, 'checkpoint_best.pt'))\n",
    "encoder.load_state_dict(state_dict['encoder'])\n",
    "decoder.load_state_dict(state_dict['decoder'])\n",
    "diffusion.load_state_dict(state_dict['diffusion'])"
   ]
  },
  {
   "cell_type": "code",
   "execution_count": null,
   "id": "f85a522a-7d91-4293-8aeb-7e11876a4e40",
   "metadata": {},
   "outputs": [],
   "source": [
    "transform = Transform()\n",
    "#resize = Resize((128, 128))\n",
    "\n",
    "for batch in data_loader:\n",
    "    x, mask = batch\n",
    "    x = transform(x.permute((0, 3, 1, 2))\n",
    "    x = x.to(torch.float32).to(device)\n",
    "    posterior, _ = encoder(x)\n",
    "    feature = posterior.mean\n",
    "\n",
    "    cond = (masks != 0).to(torch.float32).view(-1, 1, 16, 16) * feature\n",
    "    if cond_type=='point':\n",
    "        cond = (masks!=0).to(torch.float32).view(-1, 1, 16, 16) * feature\n",
    "    elif cond_type=='mask':\n",
    "        cond = torch.zeros_like(feature)\n",
    "        for m in range(1, 5):\n",
    "            masks_m == (masks==m).to(torch.float32).view(-1, 1, 16, 16)\n",
    "            count_m = mask_m.sum((2, 3))\n",
    "            feature_m = mask_m * feature\n",
    "            feature_m_mean = feature_m.sum((2, 3)) / count_m\n",
    "            feature_m_mean = torch.where(count_m==0, torch.zeros_like(feature_m_mean), feature_m_mean)\n",
    "            cond += mask_m * feature_m_mean.view(-1, 16, 1, 1)\n",
    "    feature_recon = diffusion(cond)\n",
    "    \n",
    "    img = decoder(feature)\n",
    "    img_recon = decoder(feature_recon)\n",
    "    print(img_recon.shape)"
   ]
  }
 ],
 "metadata": {
  "kernelspec": {
   "display_name": "Python 3 (ipykernel)",
   "language": "python",
   "name": "python3"
  },
  "language_info": {
   "codemirror_mode": {
    "name": "ipython",
    "version": 3
   },
   "file_extension": ".py",
   "mimetype": "text/x-python",
   "name": "python",
   "nbconvert_exporter": "python",
   "pygments_lexer": "ipython3",
   "version": "3.8.2"
  }
 },
 "nbformat": 4,
 "nbformat_minor": 5
}
