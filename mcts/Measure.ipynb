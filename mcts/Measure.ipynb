{
 "cells": [
  {
   "cell_type": "code",
   "execution_count": 16,
   "id": "f916ef26",
   "metadata": {},
   "outputs": [],
   "source": [
    "import os\n",
    "import json\n",
    "import pandas\n",
    "import numpy as np\n",
    "from dateutil import parser\n",
    "from argparse import ArgumentParser"
   ]
  },
  {
   "cell_type": "code",
   "execution_count": 2,
   "id": "ce7b6d41",
   "metadata": {},
   "outputs": [],
   "source": [
    "threshold = 0.9\n",
    "after = '0610'"
   ]
  },
  {
   "cell_type": "code",
   "execution_count": 3,
   "id": "a61466d9",
   "metadata": {},
   "outputs": [],
   "source": [
    "def filter_log_time(log):\n",
    "    success = False\n",
    "    times = [parser.parse(log[i-1].split(',')[0]) for i in range(len(log)) if 'Best Action' in log[i]]\n",
    "    return times\n",
    "def get_intervals(times):\n",
    "    delta_time = []\n",
    "    for i in range(len(times)-1):\n",
    "        delta = times[i+1] - times[i]\n",
    "        delta_time.append(delta)\n",
    "    return delta_time\n",
    "def filter_log(log):\n",
    "    success = False\n",
    "    log = [float(t.replace('\\n', '').split(' ')[-1]) for t in log if 'Score' in t]\n",
    "    if len(log)<2:\n",
    "        return None\n",
    "    if log[-1]==log[-2]:\n",
    "        #if log[-1]>args.threshold:\n",
    "        #    success = True\n",
    "        log.pop(-1)\n",
    "    best_score = np.max(log)\n",
    "    if np.max(log)>threshold:\n",
    "        success = True\n",
    "        end = log.index(best_score)+1\n",
    "        log = log[:end]\n",
    "    log.append(success)\n",
    "    return log"
   ]
  },
  {
   "cell_type": "code",
   "execution_count": 6,
   "id": "a3c5ee39",
   "metadata": {},
   "outputs": [
    {
     "name": "stdout",
     "output_type": "stream",
     "text": [
      "data/Sub-circle-1.0-0715_2147\n",
      "data/Sub-line-1.0-0715_2033\n",
      "data/mcts-0306_2343\n",
      "data/mcts-0306_2346\n",
      "data/mcts-0309_1757\n",
      "data/mcts-0310_1132\n",
      "data/mcts-0520_2359\n",
      "data/mcts-0715_2101\n",
      "data/mcts-0715_2112\n",
      "data/mcts-0715_2121\n",
      "data/mcts-0715_2129\n",
      "data/mcts-0715_2132\n",
      "data/mcts-0715_2348\n",
      "data/mcts-0716_0028\n",
      "data/mcts-0724_0117\n",
      "data/mcts-0724_0501\n"
     ]
    }
   ],
   "source": [
    "logs = sorted([d for d in os.listdir('data') if d.startswith('mcts') or d.startswith('Sub')])\n",
    "logs = [d for d in logs if '.zip' not in d]\n",
    "for logname in logs:\n",
    "    print(os.path.join('data', logname))"
   ]
  },
  {
   "cell_type": "code",
   "execution_count": 9,
   "id": "d695f7d6",
   "metadata": {},
   "outputs": [],
   "source": []
  },
  {
   "cell_type": "code",
   "execution_count": 11,
   "id": "97d61085",
   "metadata": {},
   "outputs": [],
   "source": [
    "with open(os.path.join('data', logname, 'config.json'), 'r') as f:\n",
    "    cfg = json.load(f)"
   ]
  },
  {
   "cell_type": "code",
   "execution_count": 14,
   "id": "25b1f5e0",
   "metadata": {},
   "outputs": [
    {
     "data": {
      "text/plain": [
       "'/disk1/hogun/PreferenceDiffusion/iql/logs/0420_1905/iql_final.pth'"
      ]
     },
     "execution_count": 14,
     "metadata": {},
     "output_type": "execute_result"
    }
   ],
   "source": [
    "cfg['iql_path']"
   ]
  },
  {
   "cell_type": "code",
   "execution_count": 15,
   "id": "d0a81138",
   "metadata": {},
   "outputs": [
    {
     "data": {
      "text/plain": [
       "'D5,D8,D11'"
      ]
     },
     "execution_count": 15,
     "metadata": {},
     "output_type": "execute_result"
    }
   ],
   "source": [
    "cfg['scenes']"
   ]
  },
  {
   "cell_type": "code",
   "execution_count": null,
   "id": "d4dbca6f",
   "metadata": {},
   "outputs": [],
   "source": [
    "cfg['use_template']"
   ]
  },
  {
   "cell_type": "code",
   "execution_count": 12,
   "id": "27858189",
   "metadata": {},
   "outputs": [
    {
     "data": {
      "text/plain": [
       "{'data_dir': '/disk1/hogun',\n",
       " 'seed': 12345,\n",
       " 'use_template': True,\n",
       " 'scenes': 'D5,D8,D11',\n",
       " 'inorder': False,\n",
       " 'scene_split': 'all',\n",
       " 'object_split': 'unseen',\n",
       " 'num_objects': 0,\n",
       " 'num_scenes': 50,\n",
       " 'H': 12,\n",
       " 'W': 15,\n",
       " 'crop_size': 128,\n",
       " 'gui_off': True,\n",
       " 'visualize_graph': False,\n",
       " 'logging': True,\n",
       " 'wandb_off': False,\n",
       " 'algorithm': 'mcts',\n",
       " 'time_limit': None,\n",
       " 'iteration_limit': 3000,\n",
       " 'max_depth': 7,\n",
       " 'rollout_policy': 'nostep',\n",
       " 'tree_policy': 'iql',\n",
       " 'puct_lambda': 0.5,\n",
       " 'threshold_success': 0.9,\n",
       " 'threshold_prob': 1e-05,\n",
       " 'batch_size': 32,\n",
       " 'binary_reward': False,\n",
       " 'blurring': 1,\n",
       " 'exploration': 0.5,\n",
       " 'gamma': 1,\n",
       " 'prob_expand': 0.0,\n",
       " 'normalize_reward': False,\n",
       " 'reward_type': 'gt',\n",
       " 'reward_model_path': 'data/classification-best/top_nobg_linspace_mse-best.pth',\n",
       " 'label_type': 'linspace',\n",
       " 'view': 'top',\n",
       " 'qnet_path': '',\n",
       " 'vnet_path': '',\n",
       " 'policynet_path': '../policy_learning/logs/0224_1815/pnet_e1.pth',\n",
       " 'iql_path': '/disk1/hogun/PreferenceDiffusion/iql/logs/0420_1905/iql_final.pth',\n",
       " 'sigmoid': False,\n",
       " 'policy_net': 'resnet',\n",
       " 'policy_version': 1,\n",
       " 'continuous_policy': False}"
      ]
     },
     "execution_count": 12,
     "metadata": {},
     "output_type": "execute_result"
    }
   ],
   "source": [
    "cfg"
   ]
  },
  {
   "cell_type": "code",
   "execution_count": null,
   "id": "59ed45ad",
   "metadata": {},
   "outputs": [],
   "source": [
    "logs = sorted([d for d in os.listdir('data') if d.startswith('mcts') or d.startswith('Sub')])\n",
    "if after is not None:\n",
    "    logs = sorted([d for d in logs if d[-9:-5] >= after])\n",
    "    print('Measure metrics for:', logs)\n",
    "for logname in logs:\n",
    "    ep_length = []\n",
    "    ep_success_length = []\n",
    "    deltas = []\n",
    "    scenes = [s for s in os.listdir(os.path.join('data', logname)) if s.startswith('scene')]\n",
    "    if len(scenes)<5:\n",
    "        continue\n",
    "    print(logname)\n",
    "    for scene in scenes:\n",
    "        scene_dir = os.path.join('data', logname, scene)\n",
    "        logfile = [f for f in os.listdir(scene_dir) if f.endswith('.log')]\n",
    "        if len(logfile)==0:\n",
    "            continue\n",
    "        logfile = logfile[0]\n",
    "        with open(os.path.join(scene_dir, logfile), 'r') as f:\n",
    "            x = f.readlines()\n",
    "        times = filter_log_time(x)\n",
    "        deltas += get_intervals(times)\n",
    "        scores = filter_log(x)\n",
    "        if scores is None:\n",
    "            continue\n",
    "        if scores[-1]:\n",
    "            ep_success_length.append(len(scores[:-1]))\n",
    "        ep_length.append(len(scores[:-1]))\n",
    "    print('Num episodes:', len(scenes))\n",
    "    print('Average time:', np.mean(deltas).seconds)\n",
    "    print('Success rate:', len(ep_success_length)/len(scenes))\n",
    "    print('Success average length:', np.mean(ep_success_length))\n",
    "    print('Average length:', np.mean(ep_length))\n",
    "    print('-'*40)\n"
   ]
  }
 ],
 "metadata": {
  "kernelspec": {
   "display_name": "Python 3 (ipykernel)",
   "language": "python",
   "name": "python3"
  },
  "language_info": {
   "codemirror_mode": {
    "name": "ipython",
    "version": 3
   },
   "file_extension": ".py",
   "mimetype": "text/x-python",
   "name": "python",
   "nbconvert_exporter": "python",
   "pygments_lexer": "ipython3",
   "version": "3.11.5"
  }
 },
 "nbformat": 4,
 "nbformat_minor": 5
}
