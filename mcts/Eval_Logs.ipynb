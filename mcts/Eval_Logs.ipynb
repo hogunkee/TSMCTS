{
 "cells": [
  {
   "cell_type": "code",
   "execution_count": 2,
   "id": "5b8f4144",
   "metadata": {},
   "outputs": [],
   "source": [
    "import os\n",
    "import numpy as np\n",
    "import cv2\n",
    "from matplotlib import pyplot as plt\n",
    "\n",
    "import torch\n",
    "import torch.nn as nn\n",
    "from torch.utils.data import DataLoader\n",
    "from torchvision import transforms\n",
    "from torchvision.models import resnet18, resnet34, resnet50"
   ]
  },
  {
   "cell_type": "code",
   "execution_count": 3,
   "id": "aa0afeb2",
   "metadata": {},
   "outputs": [
    {
     "name": "stderr",
     "output_type": "stream",
     "text": [
      "/home/gun/anaconda3/envs/diffuser/lib/python3.8/site-packages/torchvision/models/_utils.py:208: UserWarning: The parameter 'pretrained' is deprecated since 0.13 and may be removed in the future, please use 'weights' instead.\n",
      "  warnings.warn(\n",
      "/home/gun/anaconda3/envs/diffuser/lib/python3.8/site-packages/torchvision/models/_utils.py:223: UserWarning: Arguments other than a weight enum or `None` for 'weights' are deprecated since 0.13 and may be removed in the future. The current behavior is equivalent to passing `weights=None`.\n",
      "  warnings.warn(msg)\n"
     ]
    }
   ],
   "source": [
    "resnet = resnet18\n",
    "model_path = 'data/classification-best/top_nobg_linspace_mse-best.pth'\n",
    "\n",
    "device = \"cuda:0\"\n",
    "\n",
    "model = resnet(pretrained=False)\n",
    "fc_in_features = model.fc.in_features\n",
    "\n",
    "model.fc = nn.Sequential(\n",
    "    nn.Linear(fc_in_features, 1),\n",
    "    #nn.Sigmoid()\n",
    ")\n",
    "model.load_state_dict(torch.load(model_path))\n",
    "model.to(device)\n",
    "model.eval()\n",
    "\n",
    "preprocess = transforms.Compose([\n",
    "    transforms.Normalize(mean=[0.485, 0.456, 0.406],\n",
    "                         std=[0.229, 0.224, 0.225]),\n",
    "])"
   ]
  },
  {
   "cell_type": "code",
   "execution_count": 4,
   "id": "b6d19605",
   "metadata": {},
   "outputs": [],
   "source": [
    "def get_scores(inputs):\n",
    "    x_numpy = np.concatenate(inputs).reshape(-1, 360, 480, 3)\n",
    "    x_tp = x_numpy.transpose([0, 3, 1, 2])\n",
    "    x_eval = torch.from_numpy(x_tp).type(torch.float)\n",
    "    X_eval = preprocess(x_eval).to(device)\n",
    "    scores = model(X_eval)[:, 0].detach().cpu().numpy()\n",
    "    return scores"
   ]
  },
  {
   "cell_type": "code",
   "execution_count": 11,
   "id": "94e562f0",
   "metadata": {},
   "outputs": [],
   "source": [
    "lognames = [lg for lg in os.listdir('data/logs') if lg!='.DS_Store']"
   ]
  },
  {
   "cell_type": "code",
   "execution_count": 12,
   "id": "1cfdccf8",
   "metadata": {},
   "outputs": [],
   "source": [
    "score_per_user = []\n",
    "for logname in lognames:\n",
    "    log_dir = os.path.join('data/logs', logname)\n",
    "    scenes = [s for s in os.listdir(log_dir) if 'nobg' in s and s.endswith('.png')]\n",
    "    inputs = []\n",
    "    for scene in scenes:\n",
    "        scene_path = os.path.join(log_dir, scene)\n",
    "        image = cv2.imread(scene_path)[:,:,::-1]/255\n",
    "        inputs.append(image)\n",
    "        \n",
    "    scores = get_scores(inputs)\n",
    "    score_per_user.append([logname, np.mean(scores)])"
   ]
  },
  {
   "cell_type": "code",
   "execution_count": 13,
   "id": "2a593cca",
   "metadata": {},
   "outputs": [
    {
     "data": {
      "text/plain": [
       "[['hogun', 0.81339765],\n",
       " ['wooseok', 0.80153465],\n",
       " ['junseo', 0.78254473],\n",
       " ['MineuiHong', 0.78091514],\n",
       " ['minjae', 0.76403475],\n",
       " ['DohyeongKim', 0.74855816],\n",
       " ['GunminLee', 0.71443623],\n",
       " ['hojun', 0.68300456],\n",
       " ['jeongho', 0.6560363],\n",
       " ['jaeyeon', 0.59356]]"
      ]
     },
     "execution_count": 13,
     "metadata": {},
     "output_type": "execute_result"
    }
   ],
   "source": [
    "sorted(score_per_user, key=lambda k: k[1], reverse=True)"
   ]
  },
  {
   "cell_type": "code",
   "execution_count": null,
   "id": "b8136994",
   "metadata": {},
   "outputs": [],
   "source": []
  }
 ],
 "metadata": {
  "kernelspec": {
   "display_name": "Python 3 (ipykernel)",
   "language": "python",
   "name": "python3"
  },
  "language_info": {
   "codemirror_mode": {
    "name": "ipython",
    "version": 3
   },
   "file_extension": ".py",
   "mimetype": "text/x-python",
   "name": "python",
   "nbconvert_exporter": "python",
   "pygments_lexer": "ipython3",
   "version": "3.8.2"
  }
 },
 "nbformat": 4,
 "nbformat_minor": 5
}
