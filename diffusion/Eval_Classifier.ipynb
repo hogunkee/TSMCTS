{
 "cells": [
  {
   "cell_type": "code",
   "execution_count": null,
   "id": "314779ab",
   "metadata": {},
   "outputs": [],
   "source": [
    "import os\n",
    "import numpy as np\n",
    "from matplotlib import pyplot as plt\n",
    "from data_loader import PybulletNpyDataset"
   ]
  },
  {
   "cell_type": "code",
   "execution_count": null,
   "id": "be2ee97f",
   "metadata": {},
   "outputs": [],
   "source": [
    "import torch\n",
    "import torch.nn as nn\n",
    "from torch.utils.data import DataLoader\n",
    "from torchvision import transforms\n",
    "from torchvision.models import resnet18. resnet34, resnet50"
   ]
  },
  {
   "cell_type": "code",
   "execution_count": null,
   "id": "4a7de20b",
   "metadata": {},
   "outputs": [],
   "source": [
    "resnet = resnet18\n",
    "model_path = 'data/classification/model_29.pth'\n",
    "data_path = '/ssd/disk/ur5_tidying_data/pybullet_line/test'\n",
    "device = \"cuda:0\"\n",
    "\n",
    "dataset = PybulletNpyDataset(data_dir=data_path)\n",
    "dataloader = DataLoader(dataset, batch_size=10, shuffle=False, num_workers=1)\n",
    "\n",
    "model = resnet(pretrained=False)\n",
    "model.load_state_dict(torch.load(model_path))\n",
    "model.to(device)\n",
    "model.eval()\n",
    "\n",
    "preprocess = transforms.Compose([\n",
    "    transforms.Normalization(mean=[0.485, 0.456, 0.406], \n",
    "                             std=[0.229, 0.224, 0.225]),\n",
    "])"
   ]
  },
  {
   "cell_type": "code",
   "execution_count": null,
   "id": "0724311b",
   "metadata": {},
   "outputs": [],
   "source": [
    "for X_val, Y_val in dataloader:\n",
    "    x_raw = X_val.cpu().numpy().transpose([0, 2, 3, 1])\n",
    "    X_val = preprocess(X_val).to(device)\n",
    "    Y_val = Y_val[:, 0].to(device)\n",
    "    y_pred = model(X_val)[:, 0]\n",
    "    \n",
    "    for i in range(10):\n",
    "        print(y_pred[i])\n",
    "        plt.imshow(x_raw[i])\n",
    "        plt.show()\n",
    "    break"
   ]
  }
 ],
 "metadata": {
  "kernelspec": {
   "display_name": "Python 3",
   "language": "python",
   "name": "python3"
  },
  "language_info": {
   "codemirror_mode": {
    "name": "ipython",
    "version": 3
   },
   "file_extension": ".py",
   "mimetype": "text/x-python",
   "name": "python",
   "nbconvert_exporter": "python",
   "pygments_lexer": "ipython3",
   "version": "3.6.13"
  }
 },
 "nbformat": 4,
 "nbformat_minor": 5
}
